{
  "nbformat": 4,
  "nbformat_minor": 0,
  "metadata": {
    "colab": {
      "name": "Lab 3.1 - Phish and Spam Classification I.ipynb",
      "provenance": [],
      "collapsed_sections": [],
      "mount_file_id": "1kK_YWbY8bvmsB0sSeVyg8-RP76RbSbLR",
      "authorship_tag": "ABX9TyNNGFchNg4N4Y55W9wGGgeS",
      "include_colab_link": true
    },
    "kernelspec": {
      "name": "python3",
      "display_name": "Python 3"
    },
    "language_info": {
      "name": "python"
    },
    "accelerator": "GPU"
  },
  "cells": [
    {
      "cell_type": "markdown",
      "metadata": {
        "id": "view-in-github",
        "colab_type": "text"
      },
      "source": [
        "<a href=\"https://colab.research.google.com/github/iBibek/dsci6015-lab1/blob/main/Lab_3_1_Phish_and_Spam_Classification_I.ipynb\" target=\"_parent\"><img src=\"https://colab.research.google.com/assets/colab-badge.svg\" alt=\"Open In Colab\"/></a>"
      ]
    },
    {
      "cell_type": "code",
      "metadata": {
        "colab": {
          "base_uri": "https://localhost:8080/"
        },
        "id": "og1h68vp1C6s",
        "outputId": "db1fcf27-f052-44a5-b5b8-42bd73ee9053"
      },
      "source": [
        "from google.colab import drive\n",
        "drive.mount('/content/drive')"
      ],
      "execution_count": null,
      "outputs": [
        {
          "output_type": "stream",
          "name": "stdout",
          "text": [
            "Mounted at /content/drive\n"
          ]
        }
      ]
    },
    {
      "cell_type": "code",
      "metadata": {
        "id": "ZVP4pbZfmVQV"
      },
      "source": [
        "##############---------------\n",
        "##############---------------\n",
        "##############---------------\n",
        "##############--------------- Data Processing\n",
        "##############---------------\n",
        "##############---------------\n",
        "##############---------------\n"
      ],
      "execution_count": null,
      "outputs": []
    },
    {
      "cell_type": "code",
      "metadata": {
        "id": "IjfwyHvEiKKI"
      },
      "source": [
        "from sklearn import datasets\n",
        "from sklearn.preprocessing import StandardScaler\n",
        "from sklearn.linear_model import Perceptron\n",
        "from sklearn.model_selection import train_test_split\n",
        "from sklearn.metrics import accuracy_score\n",
        "import numpy as np\n",
        "import warnings\n",
        "warnings.filterwarnings('ignore')"
      ],
      "execution_count": null,
      "outputs": []
    },
    {
      "cell_type": "code",
      "metadata": {
        "id": "jrC10VBUZqLn"
      },
      "source": [
        "import numpy as np\n",
        "phishing_dataset = np.genfromtxt('/content/drive/MyDrive/6015/phishing_dataset.csv', delimiter=',', dtype=np.int32)\n",
        "X = phishing_dataset[:,:-1]  # Samples\n",
        "y = phishing_dataset[:, -1] #targets\n",
        "X_train, X_test, y_train, y_test = train_test_split(X, y, test_size=0.3)\n",
        "sc = StandardScaler()\n",
        "sc.fit(X_train)\n",
        "# Apply the scaler to the X training data\n",
        "X_train_std = sc.transform(X_train)\n",
        "# Apply the SAME scaler to the X test data\n",
        "X_test_std = sc.transform(X_test)"
      ],
      "execution_count": 5,
      "outputs": []
    },
    {
      "cell_type": "code",
      "metadata": {
        "id": "VWEhEUaAmT3N"
      },
      "source": [
        "##############---------------\n",
        "##############---------------\n",
        "##############---------------\n",
        "##############--------------- Linear Regression Model \n",
        "##############---------------\n",
        "##############---------------\n",
        "##############---------------\n"
      ],
      "execution_count": null,
      "outputs": []
    },
    {
      "cell_type": "code",
      "metadata": {
        "id": "iS63DkiHKX9l"
      },
      "source": [
        "import torch\n",
        "class LinearRegression(torch.nn.Module):   \n",
        "    def __init__(self):\n",
        "        super(LinearRegression, self).__init__()\n",
        "        self.linear = torch.nn.Linear(30, 1)    \n",
        "    def forward(self, x):\n",
        "        y_pred = self.linear(x)\n",
        "        return y_pred\n",
        "\n",
        "model = LinearRegression()\n",
        "\n",
        "criterion = torch.nn.MSELoss()\n",
        "\n",
        "optimizer = torch.optim.SGD(model.parameters(), lr=0.001)\n",
        "\n",
        "X_train_std= torch.from_numpy(np.array(X_train_std).astype(np.float32))\n",
        "y_train=torch.from_numpy(np.array(y_train).astype(np.float32))\n",
        "\n",
        "for epoch in range(700):\n",
        "    model.train()\n",
        "    optimizer.zero_grad()    \n",
        "    y_pred = model(X_train_std)    \n",
        "     \n",
        "    loss = criterion(y_pred.reshape(-1), y_train)    # Backward pass\n",
        "    loss.backward()\n",
        "    optimizer.step()\n",
        "\n",
        "    "
      ],
      "execution_count": 69,
      "outputs": []
    },
    {
      "cell_type": "code",
      "metadata": {
        "colab": {
          "base_uri": "https://localhost:8080/"
        },
        "id": "fGApBHCmlzzV",
        "outputId": "710d8e9d-c1a8-4480-ac4d-1bb9784c9c10"
      },
      "source": [
        "\n",
        "model.eval()\n",
        "X_test_std=torch.from_numpy(np.array(X_test_std).astype(np.float32))\n",
        "tar_pred = model(X_test_std)\n",
        "tr=np.array(y_test) == 1\n",
        "op=np.array(tar_pred.cpu().detach().numpy()) >=0.5\n",
        "print(\"The accuracy for Linear Regression Model is: \", 100* accuracy_score(tr,op))"
      ],
      "execution_count": 71,
      "outputs": [
        {
          "output_type": "stream",
          "name": "stdout",
          "text": [
            "The accuracy for Linear Regression Model is:  80.97678625263792\n"
          ]
        }
      ]
    },
    {
      "cell_type": "markdown",
      "metadata": {
        "id": "1RiCAd3pWKgb"
      },
      "source": [
        "LOGISTIC REGRESSION"
      ]
    },
    {
      "cell_type": "code",
      "metadata": {
        "id": "EgqtORGoZkFo"
      },
      "source": [
        "##############---------------\n",
        "##############---------------\n",
        "##############---------------\n",
        "##############---------------Logistic Regression Model \n",
        "##############---------------\n",
        "##############---------------\n",
        "##############---------------\n"
      ],
      "execution_count": 39,
      "outputs": []
    },
    {
      "cell_type": "code",
      "metadata": {
        "colab": {
          "base_uri": "https://localhost:8080/"
        },
        "id": "NanTwWt7Z9TP",
        "outputId": "d870c484-a028-4763-a730-199d4f45eb68"
      },
      "source": [
        "import torch\n",
        "from torch.nn import functional as F\n",
        "class LogisticRegression(torch.nn.Module):\n",
        "    def __init__(self):\n",
        "        super(LogisticRegression, self).__init__()\n",
        "        self.linear = torch.nn.Linear(30, 1)     \n",
        "    def forward(self, x):\n",
        "        y_pred = F.sigmoid(self.linear(x))\n",
        "        return y_pred\n",
        "modelR = LogisticRegression()\n",
        "\n",
        "# we need to change the faetures to 0 and 1 only\n",
        "#y_train=[ 0 if x<=0 else 1 for x in training_targets ]\n",
        "X_train_std=torch.from_numpy(np.array(X_train_std).astype(np.float32))\n",
        "y_train=torch.from_numpy(np.array(y_train).astype(np.float32))\n",
        "# use the  Binary Cross Entropy for loss since we are predicting Binary Value as op\n",
        "criterion = torch.nn.BCELoss(size_average=True)\n",
        "optimizer=torch.optim.SGD(modelR.parameters(),lr=0.01)\n",
        "for epoch in range(500):\n",
        "    modelR.train()\n",
        "    optimizer.zero_grad()    \n",
        "    y_pred = modelR(X_train_std)    \n",
        "    #use the binary cross entropy loss with the logits,\n",
        "    loss=torch.nn.functional.binary_cross_entropy_with_logits(y_pred.reshape(-1), y_train)\n",
        "    loss.backward()\n",
        "    optimizer.step()\n"
      ],
      "execution_count": 23,
      "outputs": [
        {
          "output_type": "stream",
          "name": "stderr",
          "text": [
            "/usr/local/lib/python3.7/dist-packages/torch/nn/_reduction.py:42: UserWarning: size_average and reduce args will be deprecated, please use reduction='mean' instead.\n",
            "  warnings.warn(warning.format(ret))\n",
            "/usr/local/lib/python3.7/dist-packages/torch/nn/functional.py:1805: UserWarning: nn.functional.sigmoid is deprecated. Use torch.sigmoid instead.\n",
            "  warnings.warn(\"nn.functional.sigmoid is deprecated. Use torch.sigmoid instead.\")\n"
          ]
        }
      ]
    },
    {
      "cell_type": "code",
      "metadata": {
        "colab": {
          "base_uri": "https://localhost:8080/"
        },
        "id": "bL5KSm7OaCV0",
        "outputId": "8b2a2832-a319-4485-beda-85431328c4ae"
      },
      "source": [
        "modelR.eval()\n",
        "X_test_std=torch.from_numpy(np.array(X_test_std).astype(np.float32))\n",
        "tar_pred = modelR(X_test_std)\n",
        "tr=np.array(y_test) == 1\n",
        "op=np.array(tar_pred.cpu().detach().numpy()) >=0.5\n",
        "print(\"The accuracy for Logistic Regression Model is: \", 100* accuracy_score(tr,op))"
      ],
      "execution_count": 38,
      "outputs": [
        {
          "output_type": "stream",
          "name": "stdout",
          "text": [
            "The accuracy for Logistic Regression Model is:  85.64968344889961\n"
          ]
        }
      ]
    }
  ]
}