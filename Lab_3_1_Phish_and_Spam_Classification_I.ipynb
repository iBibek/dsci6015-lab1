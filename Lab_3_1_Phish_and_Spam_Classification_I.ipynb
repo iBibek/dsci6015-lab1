{
  "nbformat": 4,
  "nbformat_minor": 0,
  "metadata": {
    "colab": {
      "name": "Lab 3.1 - Phish and Spam Classification I.ipynb",
      "provenance": [],
      "collapsed_sections": [],
      "mount_file_id": "1kK_YWbY8bvmsB0sSeVyg8-RP76RbSbLR",
      "authorship_tag": "ABX9TyNkONu3UDnfS6ckUxxrbdRZ",
      "include_colab_link": true
    },
    "kernelspec": {
      "name": "python3",
      "display_name": "Python 3"
    },
    "language_info": {
      "name": "python"
    },
    "accelerator": "GPU"
  },
  "cells": [
    {
      "cell_type": "markdown",
      "metadata": {
        "id": "view-in-github",
        "colab_type": "text"
      },
      "source": [
        "<a href=\"https://colab.research.google.com/github/iBibek/dsci6015-lab1/blob/main/Lab_3_1_Phish_and_Spam_Classification_I.ipynb\" target=\"_parent\"><img src=\"https://colab.research.google.com/assets/colab-badge.svg\" alt=\"Open In Colab\"/></a>"
      ]
    },
    {
      "cell_type": "code",
      "metadata": {
        "colab": {
          "base_uri": "https://localhost:8080/"
        },
        "id": "og1h68vp1C6s",
        "outputId": "db1fcf27-f052-44a5-b5b8-42bd73ee9053"
      },
      "source": [
        "from google.colab import drive\n",
        "drive.mount('/content/drive')"
      ],
      "execution_count": null,
      "outputs": [
        {
          "output_type": "stream",
          "name": "stdout",
          "text": [
            "Mounted at /content/drive\n"
          ]
        }
      ]
    },
    {
      "cell_type": "code",
      "metadata": {
        "id": "FXg7ipVB6C47"
      },
      "source": [
        "import numpy as np\n",
        "phishing_dataset = np.genfromtxt('/content/drive/MyDrive/6015/phishing_dataset.csv', delimiter=',', dtype=np.int32)\n",
        "samples = phishing_dataset[:,:-1]\n",
        "targets = phishing_dataset[:, -1]"
      ],
      "execution_count": 4,
      "outputs": []
    },
    {
      "cell_type": "code",
      "metadata": {
        "id": "-MXxcTyp6wAE"
      },
      "source": [
        "from sklearn.model_selection import train_test_split\n",
        "\n",
        "training_samples, testing_samples, training_targets, testing_targets = train_test_split(samples, targets, test_size=0.2, random_state=42)\n"
      ],
      "execution_count": 5,
      "outputs": []
    },
    {
      "cell_type": "code",
      "metadata": {
        "id": "YMAXn8XX-9DD"
      },
      "source": [
        "from sklearn.linear_model import SGDClassifier\n",
        "from sklearn.preprocessing import StandardScaler\n",
        "from sklearn.pipeline import make_pipeline"
      ],
      "execution_count": 150,
      "outputs": []
    },
    {
      "cell_type": "code",
      "metadata": {
        "colab": {
          "base_uri": "https://localhost:8080/"
        },
        "id": "nDmO6rML-5kU",
        "outputId": "714feba7-60d4-479b-8dc4-56cc0109f1e5"
      },
      "source": [
        "log_classifier = make_pipeline(StandardScaler(), SGDClassifier(max_iter=1000, tol=1e-4, shuffle=True,loss='log'))\n",
        "log_classifier.fit(training_samples, training_targets )\n",
        "predictions = log_classifier.predict(testing_samples)\n",
        "accuracy = 100.0 * metrics.accuracy_score(testing_targets, predictions)\n",
        "print (\"Logistic Regression accuracy: \" + str(accuracy))"
      ],
      "execution_count": 152,
      "outputs": [
        {
          "output_type": "stream",
          "name": "stdout",
          "text": [
            "Logistic Regression accuracy: 92.4468566259611\n"
          ]
        }
      ]
    },
    {
      "cell_type": "code",
      "metadata": {
        "id": "YnPuYSegeWVm"
      },
      "source": [
        "# USING THE PYTORCH FOR the linear and logistic regression"
      ],
      "execution_count": null,
      "outputs": []
    },
    {
      "cell_type": "code",
      "metadata": {
        "id": "84ZiaRqWByvc"
      },
      "source": [
        "import torch\n",
        "class Logistic_Reg_model(torch.nn.Module):\n",
        " def __init__(self,no_input_features):\n",
        "   super(Logistic_Reg_model,self).__init__()\n",
        "   self.layer1=torch.nn.Linear(no_input_features,20)\n",
        "   self.layer2=torch.nn.Linear(20,1)\n",
        " def forward(self,x):\n",
        "   y_predicted=self.layer1(x)\n",
        "   y_predicted=torch.sigmoid(self.layer2(y_predicted))\n",
        "   return y_predicted"
      ],
      "execution_count": null,
      "outputs": []
    },
    {
      "cell_type": "code",
      "metadata": {
        "id": "NsXX4-NbB--D"
      },
      "source": [
        "model=Logistic_Reg_model(30)"
      ],
      "execution_count": null,
      "outputs": []
    },
    {
      "cell_type": "code",
      "metadata": {
        "colab": {
          "base_uri": "https://localhost:8080/"
        },
        "id": "DRcJhucPCME1",
        "outputId": "847a813a-0eac-4b8a-bd46-8e8171ccf58f"
      },
      "source": [
        "model"
      ],
      "execution_count": null,
      "outputs": [
        {
          "output_type": "execute_result",
          "data": {
            "text/plain": [
              "Logistic_Reg_model(\n",
              "  (layer1): Linear(in_features=30, out_features=20, bias=True)\n",
              "  (layer2): Linear(in_features=20, out_features=1, bias=True)\n",
              ")"
            ]
          },
          "metadata": {},
          "execution_count": 140
        }
      ]
    },
    {
      "cell_type": "code",
      "metadata": {
        "id": "GmRGdKEDCM_d"
      },
      "source": [
        "criterion=torch.nn.BCELoss()\n",
        "optimizer=torch.optim.SGD(model.parameters(),lr=0.01)"
      ],
      "execution_count": null,
      "outputs": []
    },
    {
      "cell_type": "code",
      "metadata": {
        "id": "ts7jvYCACnEk"
      },
      "source": [
        "import numpy as np\n",
        "import torch\n",
        "x_train=torch.from_numpy(training_samples.astype(np.float32))\n",
        "x_test=torch.from_numpy(testing_samples.astype(np.float32))\n",
        "y_train=torch.from_numpy(training_targets.astype(np.float32))\n",
        "y_test=torch.from_numpy(testing_targets.astype(np.float32))"
      ],
      "execution_count": 108,
      "outputs": []
    },
    {
      "cell_type": "code",
      "metadata": {
        "id": "iS63DkiHKX9l"
      },
      "source": [
        "import torch\n",
        "\n",
        "from torch.autograd import Variable\n",
        "\n",
        "class LinearRegression(torch.nn.Module):   \n",
        "    def __init__(self):\n",
        "        super(LinearRegression, self).__init__()\n",
        "        self.linear = torch.nn.Linear(30, 1)    \n",
        "    def forward(self, x):\n",
        "        y_pred = self.linear(x)\n",
        "        return y_pred\n",
        "\n",
        "model = LinearRegression()\n",
        "criterion = torch.nn.MSELoss()\n",
        "optimizer = torch.optim.SGD(model.parameters(), lr=0.0001)\n",
        "\n",
        "for epoch in range(500):\n",
        "    model.train()\n",
        "    optimizer.zero_grad()    # Forward pass\n",
        "    y_pred = model(x_train)    # Compute Loss\n",
        "    loss = criterion(y_pred.reshape(-1), y_train)    # Backward pass\n",
        "    loss.backward()\n",
        "    optimizer.step()\n",
        "    \n",
        "    \n",
        "    "
      ],
      "execution_count": 56,
      "outputs": []
    },
    {
      "cell_type": "code",
      "metadata": {
        "colab": {
          "base_uri": "https://localhost:8080/"
        },
        "id": "7iFlEW41V_WZ",
        "outputId": "f0fcf972-7301-42b2-d760-8501834d1dcd"
      },
      "source": [
        "model.eval()\n",
        "tar_pred = model(x_test)\n",
        "tr=np.array(y_test.cpu().detach().numpy() ) == 1\n",
        "op=np.array(tar_pred.cpu().detach().numpy()) >=0.5\n",
        "print(metrics.accuracy_score(tr,op))\n",
        "    "
      ],
      "execution_count": 58,
      "outputs": [
        {
          "output_type": "stream",
          "name": "stdout",
          "text": [
            "0.6897331524197196\n"
          ]
        }
      ]
    },
    {
      "cell_type": "markdown",
      "metadata": {
        "id": "1RiCAd3pWKgb"
      },
      "source": [
        "LOGISTIC REGRESSION"
      ]
    },
    {
      "cell_type": "code",
      "metadata": {
        "colab": {
          "base_uri": "https://localhost:8080/"
        },
        "id": "oFh_3zpOVmW3",
        "outputId": "80b13bf5-df13-43a0-9463-28c30966e1e2"
      },
      "source": [
        "from torch.nn import functional as F\n",
        "class LogisticRegression(torch.nn.Module):\n",
        "    def __init__(self):\n",
        "        super(LogisticRegression, self).__init__()\n",
        "        self.linear = torch.nn.Linear(30, 1)     \n",
        "    def forward(self, x):\n",
        "        y_pred = F.sigmoid(self.linear(x))\n",
        "        return y_pred\n",
        "modelR = LogisticRegression()\n",
        "\n",
        "# we need to change the faetures to 0 and 1 only\n",
        "y_train=[ 0 if x<=0 else 1 for x in training_targets ]\n",
        "y_train=torch.from_numpy(np.array(y_train).astype(np.float32))\n",
        "# use the  Binary Cross Entropy for loss since we are predicting Binary Value as op\n",
        "criterion = torch.nn.BCELoss(size_average=True)\n",
        "for epoch in range(500):\n",
        "    modelR.train()\n",
        "    optimizer.zero_grad()    \n",
        "    y_pred = modelR(x_train)    \n",
        "    #use the binary cross entropy loss with the logits,\n",
        "    loss=torch.nn.functional.binary_cross_entropy_with_logits(y_pred.reshape(-1), y_train)\n",
        "    loss.backward()\n",
        "    optimizer.step()\n",
        "\n",
        "\n"
      ],
      "execution_count": 145,
      "outputs": [
        {
          "output_type": "stream",
          "name": "stderr",
          "text": [
            "/usr/local/lib/python3.7/dist-packages/torch/nn/_reduction.py:42: UserWarning: size_average and reduce args will be deprecated, please use reduction='mean' instead.\n",
            "  warnings.warn(warning.format(ret))\n",
            "/usr/local/lib/python3.7/dist-packages/torch/nn/functional.py:1805: UserWarning: nn.functional.sigmoid is deprecated. Use torch.sigmoid instead.\n",
            "  warnings.warn(\"nn.functional.sigmoid is deprecated. Use torch.sigmoid instead.\")\n"
          ]
        }
      ]
    },
    {
      "cell_type": "code",
      "metadata": {
        "colab": {
          "base_uri": "https://localhost:8080/"
        },
        "id": "RGbSWmWuVTQA",
        "outputId": "68833697-ee58-4c55-cc25-820eb2cea411"
      },
      "source": [
        "modelR.eval()\n",
        "tar_pred = modelR(x_test)\n",
        "tr=np.array(y_test.cpu().detach().numpy() ) == 1\n",
        "op=np.array(tar_pred.cpu().detach().numpy()) >=0.5\n",
        "print(\"The accuracy for Logistic Regression Model is: \", 100* metrics.accuracy_score(tr,op))"
      ],
      "execution_count": 146,
      "outputs": [
        {
          "output_type": "stream",
          "name": "stdout",
          "text": [
            "The accuracy for Logistic Regression Model is:  70.5563093622795\n"
          ]
        }
      ]
    }
  ]
}